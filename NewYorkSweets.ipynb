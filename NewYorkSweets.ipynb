{
 "cells": [
  {
   "cell_type": "markdown",
   "metadata": {},
   "source": [
    "# Capstone Project Battle of the Neighborhoods Part 1 #\n",
    "\n",
    "## Introduction ##\n",
    "\n",
    "For this project, I decided to examine New York City. I have a bit of a sweet tooth, as I know many others do as well, so I decided I would see which areas in New York would be best to visit to satisfy that craving. My plan is to map every candy store, ice cream stop, and chocolate shop I can find, then make clusters to map New York into sweet zones."
   ]
  },
  {
   "cell_type": "markdown",
   "metadata": {},
   "source": [
    "## The Data ##\n",
    "\n",
    "This project will rely on venue data from Foursquare, along with the neighborhood data for New York. I'll perform a search for every type of sweet category I can find on foursquare on each neighborhood, then map all those locations. Once I have all this data, I'll make clusters to find the best areas."
   ]
  },
  {
   "cell_type": "code",
   "execution_count": null,
   "metadata": {},
   "outputs": [],
   "source": []
  }
 ],
 "metadata": {
  "kernelspec": {
   "display_name": "Python 3",
   "language": "python",
   "name": "python3"
  },
  "language_info": {
   "codemirror_mode": {
    "name": "ipython",
    "version": 3
   },
   "file_extension": ".py",
   "mimetype": "text/x-python",
   "name": "python",
   "nbconvert_exporter": "python",
   "pygments_lexer": "ipython3",
   "version": "3.6.6"
  }
 },
 "nbformat": 4,
 "nbformat_minor": 2
}
